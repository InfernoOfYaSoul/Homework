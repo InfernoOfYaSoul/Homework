{
 "cells": [
  {
   "cell_type": "code",
   "execution_count": 8,
   "id": "2d25ce7c",
   "metadata": {},
   "outputs": [
    {
     "name": "stderr",
     "output_type": "stream",
     "text": [
      "<ipython-input-8-8218caa59756>:20: RuntimeWarning: divide by zero encountered in log\n",
      "  plt.scatter(x, np.log(z) * 100, 3, 'r')\n",
      "<ipython-input-8-8218caa59756>:21: RuntimeWarning: divide by zero encountered in log\n",
      "  plt.plot(x, 200 * np.log(x) - 180, 3, 'b')\n"
     ]
    },
    {
     "data": {
      "text/plain": [
       "{'divide': 'warn', 'over': 'warn', 'under': 'ignore', 'invalid': 'warn'}"
      ]
     },
     "execution_count": 8,
     "metadata": {},
     "output_type": "execute_result"
    },
    {
     "data": {
      "image/png": "[encoded data removed]",
      "text/plain": [
       "<Figure size 432x288 with 1 Axes>"
      ]
     },
     "metadata": {
      "needs_background": "light"
     },
     "output_type": "display_data"
    }
   ],
   "source": [
    "import matplotlib.pyplot as plt\n",
    "import numpy as np\n",
    "import pandas as pd\n",
    "%matplotlib inline\n",
    "\n",
    "\n",
    "\n",
    "with open(\"B_stat.txt\", 'r') as f:\n",
    "    stat = f.readlines()\n",
    "\n",
    "x = [float(i.split(' ')[0]) for i in stat]\n",
    "y = [float(i.split(' ')[1]) for i in stat]\n",
    "z = [float(i.split(' ')[2]) for i in stat]\n",
    "\n",
    "plt.title('-') # заголовок\n",
    "plt.xlabel('x, кол-во эл-тов') # ось абсцисс\n",
    "plt.ylabel('t, микрос; кол-во свапов, умноженное на 200') # ось ординат\n",
    "plt.grid() # включение отображение сетки\n",
    "plt.scatter(x, y, 3, 'r')\n",
    "plt.scatter(x, np.log(z) * 100, 3, 'r')\n",
    "plt.plot(x, 200 * np.log(x) - 180, 3, 'b')\n",
    "plt.plot(x, np.power(x, 2)/670 , 3, 'b')\n",
    "np.seterr(divide = 'warn') "
   ]
  },
  {
   "cell_type": "code",
   "execution_count": 9,
   "id": "88c2c187",
   "metadata": {},
   "outputs": [
    {
     "data": {
      "text/html": [
       "<div>\n",
       "<style scoped>\n",
       "    .dataframe tbody tr th:only-of-type {\n",
       "        vertical-align: middle;\n",
       "    }\n",
       "\n",
       "    .dataframe tbody tr th {\n",
       "        vertical-align: top;\n",
       "    }\n",
       "\n",
       "    .dataframe thead th {\n",
       "        text-align: right;\n",
       "    }\n",
       "</style>\n",
       "<table border=\"1\" class=\"dataframe\">\n",
       "  <thead>\n",
       "    <tr style=\"text-align: right;\">\n",
       "      <th></th>\n",
       "      <th>0</th>\n",
       "      <th>0.1</th>\n",
       "      <th>0.2</th>\n",
       "    </tr>\n",
       "  </thead>\n",
       "  <tbody>\n",
       "    <tr>\n",
       "      <th>0</th>\n",
       "      <td>10</td>\n",
       "      <td>0</td>\n",
       "      <td>23</td>\n",
       "    </tr>\n",
       "    <tr>\n",
       "      <th>1</th>\n",
       "      <td>20</td>\n",
       "      <td>0</td>\n",
       "      <td>94</td>\n",
       "    </tr>\n",
       "    <tr>\n",
       "      <th>2</th>\n",
       "      <td>30</td>\n",
       "      <td>1</td>\n",
       "      <td>206</td>\n",
       "    </tr>\n",
       "    <tr>\n",
       "      <th>3</th>\n",
       "      <td>40</td>\n",
       "      <td>2</td>\n",
       "      <td>286</td>\n",
       "    </tr>\n",
       "    <tr>\n",
       "      <th>4</th>\n",
       "      <td>50</td>\n",
       "      <td>3</td>\n",
       "      <td>542</td>\n",
       "    </tr>\n",
       "    <tr>\n",
       "      <th>...</th>\n",
       "      <td>...</td>\n",
       "      <td>...</td>\n",
       "      <td>...</td>\n",
       "    </tr>\n",
       "    <tr>\n",
       "      <th>95</th>\n",
       "      <td>960</td>\n",
       "      <td>1363</td>\n",
       "      <td>168564</td>\n",
       "    </tr>\n",
       "    <tr>\n",
       "      <th>96</th>\n",
       "      <td>970</td>\n",
       "      <td>1360</td>\n",
       "      <td>171062</td>\n",
       "    </tr>\n",
       "    <tr>\n",
       "      <th>97</th>\n",
       "      <td>980</td>\n",
       "      <td>1396</td>\n",
       "      <td>173740</td>\n",
       "    </tr>\n",
       "    <tr>\n",
       "      <th>98</th>\n",
       "      <td>990</td>\n",
       "      <td>1416</td>\n",
       "      <td>175681</td>\n",
       "    </tr>\n",
       "    <tr>\n",
       "      <th>99</th>\n",
       "      <td>1000</td>\n",
       "      <td>1439</td>\n",
       "      <td>178588</td>\n",
       "    </tr>\n",
       "  </tbody>\n",
       "</table>\n",
       "<p>100 rows × 3 columns</p>\n",
       "</div>"
      ],
      "text/plain": [
       "       0   0.1     0.2\n",
       "0     10     0      23\n",
       "1     20     0      94\n",
       "2     30     1     206\n",
       "3     40     2     286\n",
       "4     50     3     542\n",
       "..   ...   ...     ...\n",
       "95   960  1363  168564\n",
       "96   970  1360  171062\n",
       "97   980  1396  173740\n",
       "98   990  1416  175681\n",
       "99  1000  1439  178588\n",
       "\n",
       "[100 rows x 3 columns]"
      ]
     },
     "execution_count": 9,
     "metadata": {},
     "output_type": "execute_result"
    }
   ],
   "source": [
    "df = pd.read_csv(\"B_stat.txt\", sep=' ')\n",
    "\n",
    "df\n"
   ]
  },
  {
   "cell_type": "code",
   "execution_count": 10,
   "id": "3c2fdcbf",
   "metadata": {},
   "outputs": [
    {
     "name": "stderr",
     "output_type": "stream",
     "text": [
      "<ipython-input-10-9e2cd94d7602>:32: RuntimeWarning: divide by zero encountered in log\n",
      "  plt.scatter(x1, np.log(z1) * 100, 3, 'r')\n",
      "<ipython-input-10-9e2cd94d7602>:38: RuntimeWarning: divide by zero encountered in log\n",
      "  plt.scatter(x2, np.log(z2) * 100, 3, 'g', label='2 case')\n",
      "<ipython-input-10-9e2cd94d7602>:42: RuntimeWarning: divide by zero encountered in log\n",
      "  plt.scatter(x3, np.log(z3) * 100, 3, 'b', label='3 case')\n"
     ]
    },
    {
     "data": {
      "text/plain": [
       "<matplotlib.legend.Legend at 0x7f7d71499e50>"
      ]
     },
     "execution_count": 10,
     "metadata": {},
     "output_type": "execute_result"
    },
    {
     "data": {
      "image/png": "[encoded data removed]",
      "text/plain": [
       "<Figure size 432x288 with 1 Axes>"
      ]
     },
     "metadata": {
      "needs_background": "light"
     },
     "output_type": "display_data"
    }
   ],
   "source": [
    "import matplotlib.pyplot as plt\n",
    "import numpy as np\n",
    "import pandas as pd\n",
    "%matplotlib inline\n",
    "\n",
    "\n",
    "\n",
    "with open(\"C1_stat.txt\", 'r') as f:\n",
    "    stat = f.readlines()\n",
    "\n",
    "x1 = [float(i.split(' ')[0]) for i in stat]\n",
    "y1 = [float(i.split(' ')[1]) for i in stat]\n",
    "z1 = [float(i.split(' ')[2]) for i in stat]\n",
    "\n",
    "with open(\"C2_stat.txt\", 'r') as f:\n",
    "    stat = f.readlines()\n",
    "x2 = [float(i.split(' ')[0]) for i in stat]\n",
    "y2 = [float(i.split(' ')[1]) for i in stat]\n",
    "z2 = [float(i.split(' ')[2]) for i in stat]    \n",
    "\n",
    "with open(\"C3_stat.txt\", 'r') as f:\n",
    "    stat = f.readlines()\n",
    "x3 = [float(i.split(' ')[0]) for i in stat]\n",
    "y3 = [float(i.split(' ')[1]) for i in stat]\n",
    "z3 = [float(i.split(' ')[2]) for i in stat] \n",
    "\n",
    "plt.title('-') # заголовок\n",
    "plt.xlabel('x') # ось абсцисс\n",
    "plt.ylabel('t, микрос; кол-во свапов, умноженное на 200') # ось ординат\n",
    "plt.grid() # включение отображение сетки\n",
    "plt.scatter(x1, y1, 3, 'r')\n",
    "plt.scatter(x1, np.log(z1) * 100, 3, 'r')\n",
    "#plt.plot(x, 200 * np.log(x) - 180, 3, 'b')\n",
    "#plt.plot(x, np.power(x, 2)/670 , 3, 'b')\n",
    "np.seterr(divide = 'warn') \n",
    "\n",
    "plt.scatter(x2, y2, 3, 'g')\n",
    "plt.scatter(x2, np.log(z2) * 100, 3, 'g', label='2 case')\n",
    "np.seterr(divide = 'warn') \n",
    "\n",
    "plt.scatter(x3, y3, 3, 'b')\n",
    "plt.scatter(x3, np.log(z3) * 100, 3, 'b', label='3 case')\n",
    "np.seterr(divide = 'warn') \n",
    "\n",
    "plt.legend()"
   ]
  },
  {
   "cell_type": "code",
   "execution_count": null,
   "id": "a5fcd832",
   "metadata": {},
   "outputs": [],
   "source": []
  }
 ],
 "metadata": {
  "kernelspec": {
   "display_name": "Python 3",
   "language": "python",
   "name": "python3"
  },
  "language_info": {
   "codemirror_mode": {
    "name": "ipython",
    "version": 3
   },
   "file_extension": ".py",
   "mimetype": "text/x-python",
   "name": "python",
   "nbconvert_exporter": "python",
   "pygments_lexer": "ipython3",
   "version": "3.8.8"
  }
 },
 "nbformat": 4,
 "nbformat_minor": 5
}
