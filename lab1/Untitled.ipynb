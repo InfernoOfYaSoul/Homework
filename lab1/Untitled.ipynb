{
 "cells": [
  {
   "cell_type": "code",
   "execution_count": 38,
   "id": "9626debf",
   "metadata": {},
   "outputs": [
    {
     "data": {
      "text/plain": [
       "<matplotlib.collections.PathCollection at 0x7fc4826569d0>"
      ]
     },
     "execution_count": 38,
     "metadata": {},
     "output_type": "execute_result"
    },
    {
     "data": {
      "image/png": "[encoded data removed]",
      "text/plain": [
       "<Figure size 432x288 with 1 Axes>"
      ]
     },
     "metadata": {
      "needs_background": "light"
     },
     "output_type": "display_data"
    }
   ],
   "source": [
    "import matplotlib.pyplot as plt\n",
    "import numpy as np\n",
    "import pandas as pd\n",
    "%matplotlib inline\n",
    "\n",
    "\n",
    "\n",
    "with open(\"1bin_output.txt\", 'r') as f:\n",
    "    stat = f.readlines()\n",
    "\n",
    "x = [float(i.split(' ')[0]) for i in stat]\n",
    "y = [float(i.split(' ')[1]) for i in stat]\n",
    "\n",
    "plt.title('Линейная зависимость y = x') # заголовок\n",
    "plt.xlabel('x') # ось абсцисс\n",
    "plt.ylabel('y') # ось ординат\n",
    "plt.grid() # включение отображение сетки\n",
    "#plt.plot(x, y)\n",
    "plt.scatter(x, y, 3, 'b')\n"
   ]
  },
  {
   "cell_type": "code",
   "execution_count": null,
   "id": "9b3e0259",
   "metadata": {},
   "outputs": [],
   "source": []
  }
 ],
 "metadata": {
  "kernelspec": {
   "display_name": "Python 3",
   "language": "python",
   "name": "python3"
  },
  "language_info": {
   "codemirror_mode": {
    "name": "ipython",
    "version": 3
   },
   "file_extension": ".py",
   "mimetype": "text/x-python",
   "name": "python",
   "nbconvert_exporter": "python",
   "pygments_lexer": "ipython3",
   "version": "3.8.8"
  }
 },
 "nbformat": 4,
 "nbformat_minor": 5
}
